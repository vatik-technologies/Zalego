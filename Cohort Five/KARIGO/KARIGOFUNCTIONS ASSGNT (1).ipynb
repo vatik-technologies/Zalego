{
 "cells": [
  {
   "cell_type": "code",
   "execution_count": 12,
   "metadata": {},
   "outputs": [],
   "source": [
    "def vol_sphere(rad):\n",
    "     return 4/3 * 3.14 * rad ** 3  "
   ]
  },
  {
   "cell_type": "code",
   "execution_count": 13,
   "metadata": {},
   "outputs": [
    {
     "data": {
      "text/plain": [
       "33.49333333333333"
      ]
     },
     "execution_count": 13,
     "metadata": {},
     "output_type": "execute_result"
    }
   ],
   "source": [
    "vol_sphere(2)"
   ]
  },
  {
   "cell_type": "code",
   "execution_count": 11,
   "metadata": {},
   "outputs": [
    {
     "ename": "SyntaxError",
     "evalue": "invalid syntax (<ipython-input-11-14db3bb4d947>, line 2)",
     "output_type": "error",
     "traceback": [
      "\u001b[1;36m  File \u001b[1;32m\"<ipython-input-11-14db3bb4d947>\"\u001b[1;36m, line \u001b[1;32m2\u001b[0m\n\u001b[1;33m    if num >= low and <= high\u001b[0m\n\u001b[1;37m                       ^\u001b[0m\n\u001b[1;31mSyntaxError\u001b[0m\u001b[1;31m:\u001b[0m invalid syntax\n"
     ]
    }
   ],
   "source": [
    "def ran_check(num, low, high):\n",
    "    if num >= low and <= high\n",
    "        return 'num ' 'is in the range between low and high'\n",
    "    elif return 'not in range'"
   ]
  },
  {
   "cell_type": "code",
   "execution_count": 113,
   "metadata": {},
   "outputs": [],
   "source": [
    "def up_low(string):\n",
    "    count1=0\n",
    "    count2=0\n",
    "    for str in string:\n",
    "        if str.islower():\n",
    "            count1 += 1\n",
    "        elif str.isupper():\n",
    "            count2 +=1\n",
    "    print(\"No. of lower case characters :\")\n",
    "    print(count1)\n",
    "    print(\"No. of upper case characters :\")\n",
    "    print(count2)"
   ]
  },
  {
   "cell_type": "code",
   "execution_count": 114,
   "metadata": {},
   "outputs": [
    {
     "name": "stdout",
     "output_type": "stream",
     "text": [
      "No. of lower case characters :\n",
      "33\n",
      "No. of upper case characters :\n",
      "4\n"
     ]
    }
   ],
   "source": [
    "up_low('Hello Mr. Rogers, how are you this fine Tuesday?')"
   ]
  },
  {
   "cell_type": "code",
   "execution_count": 81,
   "metadata": {},
   "outputs": [],
   "source": [
    "from collections import Counter\n",
    "def unique_list(lst):\n",
    "    cnt = Counter(lst)\n",
    "    print(cnt)"
   ]
  },
  {
   "cell_type": "code",
   "execution_count": 83,
   "metadata": {},
   "outputs": [
    {
     "name": "stdout",
     "output_type": "stream",
     "text": [
      "Counter({1: 4, 3: 4, 2: 2, 4: 1, 5: 1})\n"
     ]
    }
   ],
   "source": [
    "lst = [1,1,1,1,2,2,3,3,3,3,4,5]\n",
    "unique_list(lst)"
   ]
  },
  {
   "cell_type": "code",
   "execution_count": 86,
   "metadata": {},
   "outputs": [
    {
     "name": "stdout",
     "output_type": "stream",
     "text": [
      "Hello\n",
      "Mr.\n",
      "Rogers,\n",
      "how\n",
      "are\n",
      "you\n",
      "this\n",
      "fine\n",
      "Tuesday?\n"
     ]
    }
   ],
   "source": [
    "from collections import defaultdict\n",
    "count = defaultdict(int)\n",
    "sentence = 'Hello Mr. Rogers, how are you this fine Tuesday?'.split()\n",
    "for names in sentence:\n",
    "    count[names] +=1\n",
    "    print(names)"
   ]
  },
  {
   "cell_type": "code",
   "execution_count": 111,
   "metadata": {},
   "outputs": [],
   "source": [
    "def unique_list(digits):\n",
    "    unique = []\n",
    "    for digit in digits:\n",
    "        if digit not in unique:\n",
    "            unique.append(digit)\n",
    "    return unique"
   ]
  },
  {
   "cell_type": "code",
   "execution_count": 112,
   "metadata": {},
   "outputs": [
    {
     "data": {
      "text/plain": [
       "[1, 2, 3, 4, 5]"
      ]
     },
     "execution_count": 112,
     "metadata": {},
     "output_type": "execute_result"
    }
   ],
   "source": [
    "unique_list([1,1,1,1,2,2,3,3,3,3,4,5])"
   ]
  },
  {
   "cell_type": "code",
   "execution_count": 107,
   "metadata": {},
   "outputs": [],
   "source": [
    "def multiply(numbers):\n",
    "    results = 1\n",
    "    for x in numbers:\n",
    "        results *= x\n",
    "    return results"
   ]
  },
  {
   "cell_type": "code",
   "execution_count": 108,
   "metadata": {},
   "outputs": [
    {
     "data": {
      "text/plain": [
       "-24"
      ]
     },
     "execution_count": 108,
     "metadata": {},
     "output_type": "execute_result"
    }
   ],
   "source": [
    "multiply([1, 2, 3, -4])"
   ]
  },
  {
   "cell_type": "code",
   "execution_count": 125,
   "metadata": {},
   "outputs": [],
   "source": [
    "def ispalindrome(string):\n",
    "    left_position = 0\n",
    "    right_position = len(string) - 1\n",
    "    while right_position >= left_position:\n",
    "        if not string[left_position] == string[right_position]:\n",
    "            return False\n",
    "        left_position += 1\n",
    "        right_position -= 1\n",
    "    return True\n",
    "    print(ispalindrome())"
   ]
  },
  {
   "cell_type": "code",
   "execution_count": 127,
   "metadata": {},
   "outputs": [
    {
     "data": {
      "text/plain": [
       "True"
      ]
     },
     "execution_count": 127,
     "metadata": {},
     "output_type": "execute_result"
    }
   ],
   "source": [
    "ispalindrome('12321')"
   ]
  },
  {
   "cell_type": "code",
   "execution_count": null,
   "metadata": {},
   "outputs": [],
   "source": []
  }
 ],
 "metadata": {
  "kernelspec": {
   "display_name": "Python 3",
   "language": "python",
   "name": "python3"
  },
  "language_info": {
   "codemirror_mode": {
    "name": "ipython",
    "version": 3
   },
   "file_extension": ".py",
   "mimetype": "text/x-python",
   "name": "python",
   "nbconvert_exporter": "python",
   "pygments_lexer": "ipython3",
   "version": "3.7.1"
  }
 },
 "nbformat": 4,
 "nbformat_minor": 2
}
